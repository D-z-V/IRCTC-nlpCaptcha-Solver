{
 "cells": [
  {
   "cell_type": "code",
   "execution_count": 40,
   "metadata": {},
   "outputs": [],
   "source": [
    "import numpy as np\n",
    "import matplotlib.pyplot as plt\n",
    "import pytesseract as pyt\n",
    "import glob\n",
    "import cv2\n",
    "import pandas as pd"
   ]
  },
  {
   "cell_type": "code",
   "execution_count": 41,
   "metadata": {},
   "outputs": [],
   "source": [
    "# k = 0;\n",
    "# for j in range (1,145):\n",
    "#     for i in range (4):\n",
    "#         k=k+1\n",
    "#         img = cv2.imread('traindata/b'+ str(j) + '.png', 0)\n",
    "#         start_row, start_col = int(img.shape[0]*0.41), int(img.shape[1]*(0.03+0.215*i))\n",
    "#         end_row, end_col = int(img.shape[0]*0.55), int(img.shape[1]*(.17+0.276*i))\n",
    "#         cropped = img[start_row:end_row, start_col:end_col]\n",
    "#         resized = cv2.medianBlur(cropped, 5)\n",
    "#         resized = cv2.bitwise_not(resized)\n",
    "#         resized = cv2.resize(resized, (28,28), interpolation = cv2.INTER_AREA)\n",
    "#         print(resized.shape)\n",
    "#         cv2.imwrite('resized/b'+ str(k) + '.png', resized)\n",
    "#         plt.imshow(resized)\n",
    "#         plt.show()\n",
    "#print(k)"
   ]
  },
  {
   "cell_type": "code",
   "execution_count": 42,
   "metadata": {},
   "outputs": [
    {
     "data": {
      "image/png": "[encoded data removed]",
      "text/plain": [
       "<Figure size 216x216 with 1 Axes>"
      ]
     },
     "metadata": {
      "needs_background": "light"
     },
     "output_type": "display_data"
    },
    {
     "data": {
      "image/png": "[encoded data removed]",
      "text/plain": [
       "<Figure size 216x216 with 1 Axes>"
      ]
     },
     "metadata": {
      "needs_background": "light"
     },
     "output_type": "display_data"
    },
    {
     "data": {
      "image/png": "[encoded data removed]",
      "text/plain": [
       "<Figure size 216x216 with 1 Axes>"
      ]
     },
     "metadata": {
      "needs_background": "light"
     },
     "output_type": "display_data"
    },
    {
     "data": {
      "image/png": "[encoded data removed]",
      "text/plain": [
       "<Figure size 216x216 with 1 Axes>"
      ]
     },
     "metadata": {
      "needs_background": "light"
     },
     "output_type": "display_data"
    }
   ],
   "source": [
    "\n",
    "img = cv2.imread('img2.jpg', 0)\n",
    "for i in range (4):\n",
    "    plt.figure(figsize=(3,3))\n",
    "    start_row, start_col = int(img.shape[0]*0.41), int(img.shape[1]*(0.037+0.215*i))\n",
    "    end_row, end_col = int(img.shape[0]*0.55), int(img.shape[1]*(.17+0.276*i))\n",
    "    cropped = img[start_row:end_row, start_col:end_col]\n",
    "\n",
    "    resized = cv2.resize(cropped, (28,28), interpolation = cv2.INTER_AREA)\n",
    "    resized = cv2.bitwise_not(resized)\n",
    "    resized = cv2.fastNlMeansDenoising(resized, None, 20, 7, 21) \n",
    "    #cv2.imwrite('resized/b'+ str(k) + '.png', resized)\n",
    "    resized = np.resize(resized, (1,784))\n",
    "    resized\n",
    "    plt.imshow(resized.reshape(28,28))\n",
    "    plt.show()"
   ]
  },
  {
   "cell_type": "code",
   "execution_count": null,
   "metadata": {},
   "outputs": [],
   "source": []
  }
 ],
 "metadata": {
  "interpreter": {
   "hash": "3ebf08b3703d6400f46fc860e55506a2950ee6dc480c9a907f715a0f10b243a5"
  },
  "kernelspec": {
   "display_name": "Python 3.9.12",
   "language": "python",
   "name": "python3"
  },
  "language_info": {
   "codemirror_mode": {
    "name": "ipython",
    "version": 3
   },
   "file_extension": ".py",
   "mimetype": "text/x-python",
   "name": "python",
   "nbconvert_exporter": "python",
   "pygments_lexer": "ipython3",
   "version": "3.9.12"
  },
  "orig_nbformat": 4
 },
 "nbformat": 4,
 "nbformat_minor": 2
}
